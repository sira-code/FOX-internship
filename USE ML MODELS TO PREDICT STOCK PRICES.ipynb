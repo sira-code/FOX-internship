{
 "cells": [
  {
   "cell_type": "code",
   "execution_count": 52,
   "metadata": {},
   "outputs": [
    {
     "name": "stdout",
     "output_type": "stream",
     "text": [
      "Requirement already satisfied: pandas_datareader in c:\\users\\shivangi pandey\\anaconda3\\lib\\site-packages (0.9.0)\n",
      "Requirement already satisfied: lxml in c:\\users\\shivangi pandey\\anaconda3\\lib\\site-packages (from pandas_datareader) (4.5.0)\n",
      "Requirement already satisfied: pandas>=0.23 in c:\\users\\shivangi pandey\\anaconda3\\lib\\site-packages (from pandas_datareader) (1.0.1)\n",
      "Requirement already satisfied: requests>=2.19.0 in c:\\users\\shivangi pandey\\anaconda3\\lib\\site-packages (from pandas_datareader) (2.22.0)\n",
      "Requirement already satisfied: pytz>=2017.2 in c:\\users\\shivangi pandey\\anaconda3\\lib\\site-packages (from pandas>=0.23->pandas_datareader) (2019.3)\n",
      "Requirement already satisfied: numpy>=1.13.3 in c:\\users\\shivangi pandey\\anaconda3\\lib\\site-packages (from pandas>=0.23->pandas_datareader) (1.18.1)\n",
      "Requirement already satisfied: python-dateutil>=2.6.1 in c:\\users\\shivangi pandey\\anaconda3\\lib\\site-packages (from pandas>=0.23->pandas_datareader) (2.8.1)\n",
      "Requirement already satisfied: urllib3!=1.25.0,!=1.25.1,<1.26,>=1.21.1 in c:\\users\\shivangi pandey\\anaconda3\\lib\\site-packages (from requests>=2.19.0->pandas_datareader) (1.24.3)\n",
      "Requirement already satisfied: certifi>=2017.4.17 in c:\\users\\shivangi pandey\\anaconda3\\lib\\site-packages (from requests>=2.19.0->pandas_datareader) (2019.11.28)\n",
      "Requirement already satisfied: idna<2.9,>=2.5 in c:\\users\\shivangi pandey\\anaconda3\\lib\\site-packages (from requests>=2.19.0->pandas_datareader) (2.8)\n",
      "Requirement already satisfied: chardet<3.1.0,>=3.0.2 in c:\\users\\shivangi pandey\\anaconda3\\lib\\site-packages (from requests>=2.19.0->pandas_datareader) (3.0.4)\n",
      "Requirement already satisfied: six>=1.5 in c:\\users\\shivangi pandey\\anaconda3\\lib\\site-packages (from python-dateutil>=2.6.1->pandas>=0.23->pandas_datareader) (1.14.0)\n"
     ]
    }
   ],
   "source": [
    "!pip install pandas_datareader\n",
    "import pandas as pd\n",
    "import datetime\n",
    "import pandas_datareader.data as web\n",
    "from pandas import Series, DataFrame\n",
    "pd.options.display.width = 0"
   ]
  },
  {
   "cell_type": "code",
   "execution_count": 53,
   "metadata": {},
   "outputs": [],
   "source": [
    "stock = pd.read_csv('Downloads/PRICES.csv')"
   ]
  },
  {
   "cell_type": "code",
   "execution_count": 54,
   "metadata": {},
   "outputs": [
    {
     "data": {
      "text/html": [
       "<div>\n",
       "<style scoped>\n",
       "    .dataframe tbody tr th:only-of-type {\n",
       "        vertical-align: middle;\n",
       "    }\n",
       "\n",
       "    .dataframe tbody tr th {\n",
       "        vertical-align: top;\n",
       "    }\n",
       "\n",
       "    .dataframe thead th {\n",
       "        text-align: right;\n",
       "    }\n",
       "</style>\n",
       "<table border=\"1\" class=\"dataframe\">\n",
       "  <thead>\n",
       "    <tr style=\"text-align: right;\">\n",
       "      <th></th>\n",
       "      <th>Date</th>\n",
       "      <th>Open</th>\n",
       "      <th>High</th>\n",
       "      <th>Low</th>\n",
       "      <th>Close</th>\n",
       "      <th>Adj_Close</th>\n",
       "      <th>Volume</th>\n",
       "    </tr>\n",
       "  </thead>\n",
       "  <tbody>\n",
       "    <tr>\n",
       "      <th>0</th>\n",
       "      <td>2000/3/27</td>\n",
       "      <td>3.812500</td>\n",
       "      <td>4.156250</td>\n",
       "      <td>3.812500</td>\n",
       "      <td>4.125000</td>\n",
       "      <td>4.125000</td>\n",
       "      <td>3675600</td>\n",
       "    </tr>\n",
       "    <tr>\n",
       "      <th>1</th>\n",
       "      <td>2000/3/28</td>\n",
       "      <td>4.125000</td>\n",
       "      <td>4.125000</td>\n",
       "      <td>4.000000</td>\n",
       "      <td>4.015625</td>\n",
       "      <td>4.015625</td>\n",
       "      <td>1077600</td>\n",
       "    </tr>\n",
       "    <tr>\n",
       "      <th>2</th>\n",
       "      <td>2000/3/29</td>\n",
       "      <td>4.000000</td>\n",
       "      <td>4.031250</td>\n",
       "      <td>3.953125</td>\n",
       "      <td>4.000000</td>\n",
       "      <td>4.000000</td>\n",
       "      <td>437200</td>\n",
       "    </tr>\n",
       "    <tr>\n",
       "      <th>3</th>\n",
       "      <td>2000/3/30</td>\n",
       "      <td>4.000000</td>\n",
       "      <td>4.000000</td>\n",
       "      <td>3.843750</td>\n",
       "      <td>3.843750</td>\n",
       "      <td>3.843750</td>\n",
       "      <td>1883600</td>\n",
       "    </tr>\n",
       "    <tr>\n",
       "      <th>4</th>\n",
       "      <td>2000/3/31</td>\n",
       "      <td>3.734375</td>\n",
       "      <td>3.734375</td>\n",
       "      <td>3.390625</td>\n",
       "      <td>3.390625</td>\n",
       "      <td>3.390625</td>\n",
       "      <td>7931600</td>\n",
       "    </tr>\n",
       "  </tbody>\n",
       "</table>\n",
       "</div>"
      ],
      "text/plain": [
       "        Date      Open      High       Low     Close  Adj_Close   Volume\n",
       "0  2000/3/27  3.812500  4.156250  3.812500  4.125000   4.125000  3675600\n",
       "1  2000/3/28  4.125000  4.125000  4.000000  4.015625   4.015625  1077600\n",
       "2  2000/3/29  4.000000  4.031250  3.953125  4.000000   4.000000   437200\n",
       "3  2000/3/30  4.000000  4.000000  3.843750  3.843750   3.843750  1883600\n",
       "4  2000/3/31  3.734375  3.734375  3.390625  3.390625   3.390625  7931600"
      ]
     },
     "execution_count": 54,
     "metadata": {},
     "output_type": "execute_result"
    }
   ],
   "source": [
    "stock.head()"
   ]
  },
  {
   "cell_type": "code",
   "execution_count": 55,
   "metadata": {},
   "outputs": [
    {
     "data": {
      "text/html": [
       "<div>\n",
       "<style scoped>\n",
       "    .dataframe tbody tr th:only-of-type {\n",
       "        vertical-align: middle;\n",
       "    }\n",
       "\n",
       "    .dataframe tbody tr th {\n",
       "        vertical-align: top;\n",
       "    }\n",
       "\n",
       "    .dataframe thead th {\n",
       "        text-align: right;\n",
       "    }\n",
       "</style>\n",
       "<table border=\"1\" class=\"dataframe\">\n",
       "  <thead>\n",
       "    <tr style=\"text-align: right;\">\n",
       "      <th></th>\n",
       "      <th>Date</th>\n",
       "      <th>Open</th>\n",
       "      <th>High</th>\n",
       "      <th>Low</th>\n",
       "      <th>Close</th>\n",
       "      <th>Adj_Close</th>\n",
       "      <th>Volume</th>\n",
       "    </tr>\n",
       "  </thead>\n",
       "  <tbody>\n",
       "    <tr>\n",
       "      <th>4387</th>\n",
       "      <td>2017/9/1</td>\n",
       "      <td>113.790001</td>\n",
       "      <td>114.099998</td>\n",
       "      <td>112.790001</td>\n",
       "      <td>113.309998</td>\n",
       "      <td>113.309998</td>\n",
       "      <td>950000</td>\n",
       "    </tr>\n",
       "    <tr>\n",
       "      <th>4388</th>\n",
       "      <td>2017/9/5</td>\n",
       "      <td>112.519997</td>\n",
       "      <td>113.529999</td>\n",
       "      <td>111.160004</td>\n",
       "      <td>111.870003</td>\n",
       "      <td>111.870003</td>\n",
       "      <td>1805200</td>\n",
       "    </tr>\n",
       "    <tr>\n",
       "      <th>4389</th>\n",
       "      <td>2017/9/6</td>\n",
       "      <td>112.029999</td>\n",
       "      <td>112.489998</td>\n",
       "      <td>110.250000</td>\n",
       "      <td>112.230003</td>\n",
       "      <td>112.230003</td>\n",
       "      <td>2136700</td>\n",
       "    </tr>\n",
       "    <tr>\n",
       "      <th>4390</th>\n",
       "      <td>2017/9/7</td>\n",
       "      <td>112.459999</td>\n",
       "      <td>112.900002</td>\n",
       "      <td>112.000000</td>\n",
       "      <td>112.339996</td>\n",
       "      <td>112.339996</td>\n",
       "      <td>1251600</td>\n",
       "    </tr>\n",
       "    <tr>\n",
       "      <th>4391</th>\n",
       "      <td>2017/9/8</td>\n",
       "      <td>112.300003</td>\n",
       "      <td>114.790001</td>\n",
       "      <td>112.010002</td>\n",
       "      <td>113.190002</td>\n",
       "      <td>113.190002</td>\n",
       "      <td>1611700</td>\n",
       "    </tr>\n",
       "  </tbody>\n",
       "</table>\n",
       "</div>"
      ],
      "text/plain": [
       "          Date        Open        High         Low       Close   Adj_Close  \\\n",
       "4387  2017/9/1  113.790001  114.099998  112.790001  113.309998  113.309998   \n",
       "4388  2017/9/5  112.519997  113.529999  111.160004  111.870003  111.870003   \n",
       "4389  2017/9/6  112.029999  112.489998  110.250000  112.230003  112.230003   \n",
       "4390  2017/9/7  112.459999  112.900002  112.000000  112.339996  112.339996   \n",
       "4391  2017/9/8  112.300003  114.790001  112.010002  113.190002  113.190002   \n",
       "\n",
       "       Volume  \n",
       "4387   950000  \n",
       "4388  1805200  \n",
       "4389  2136700  \n",
       "4390  1251600  \n",
       "4391  1611700  "
      ]
     },
     "execution_count": 55,
     "metadata": {},
     "output_type": "execute_result"
    }
   ],
   "source": [
    "stock.tail()"
   ]
  },
  {
   "cell_type": "code",
   "execution_count": 8,
   "metadata": {},
   "outputs": [
    {
     "data": {
      "text/plain": [
       "(4392, 7)"
      ]
     },
     "execution_count": 8,
     "metadata": {},
     "output_type": "execute_result"
    }
   ],
   "source": [
    "stock.shape"
   ]
  },
  {
   "cell_type": "code",
   "execution_count": 56,
   "metadata": {},
   "outputs": [
    {
     "data": {
      "text/html": [
       "<div>\n",
       "<style scoped>\n",
       "    .dataframe tbody tr th:only-of-type {\n",
       "        vertical-align: middle;\n",
       "    }\n",
       "\n",
       "    .dataframe tbody tr th {\n",
       "        vertical-align: top;\n",
       "    }\n",
       "\n",
       "    .dataframe thead th {\n",
       "        text-align: right;\n",
       "    }\n",
       "</style>\n",
       "<table border=\"1\" class=\"dataframe\">\n",
       "  <thead>\n",
       "    <tr style=\"text-align: right;\">\n",
       "      <th></th>\n",
       "      <th>Open</th>\n",
       "      <th>High</th>\n",
       "      <th>Low</th>\n",
       "      <th>Close</th>\n",
       "      <th>Adj_Close</th>\n",
       "      <th>Volume</th>\n",
       "    </tr>\n",
       "  </thead>\n",
       "  <tbody>\n",
       "    <tr>\n",
       "      <th>count</th>\n",
       "      <td>4392.000000</td>\n",
       "      <td>4392.000000</td>\n",
       "      <td>4392.000000</td>\n",
       "      <td>4392.000000</td>\n",
       "      <td>4392.000000</td>\n",
       "      <td>4.392000e+03</td>\n",
       "    </tr>\n",
       "    <tr>\n",
       "      <th>mean</th>\n",
       "      <td>30.562539</td>\n",
       "      <td>30.893618</td>\n",
       "      <td>30.238833</td>\n",
       "      <td>30.572580</td>\n",
       "      <td>30.572580</td>\n",
       "      <td>1.884027e+06</td>\n",
       "    </tr>\n",
       "    <tr>\n",
       "      <th>std</th>\n",
       "      <td>29.914758</td>\n",
       "      <td>30.210974</td>\n",
       "      <td>29.615761</td>\n",
       "      <td>29.905778</td>\n",
       "      <td>29.905778</td>\n",
       "      <td>1.621609e+06</td>\n",
       "    </tr>\n",
       "    <tr>\n",
       "      <th>min</th>\n",
       "      <td>3.296875</td>\n",
       "      <td>3.390625</td>\n",
       "      <td>3.000000</td>\n",
       "      <td>3.250000</td>\n",
       "      <td>3.250000</td>\n",
       "      <td>1.904000e+05</td>\n",
       "    </tr>\n",
       "    <tr>\n",
       "      <th>25%</th>\n",
       "      <td>8.718125</td>\n",
       "      <td>8.803125</td>\n",
       "      <td>8.625000</td>\n",
       "      <td>8.712500</td>\n",
       "      <td>8.712500</td>\n",
       "      <td>1.088800e+06</td>\n",
       "    </tr>\n",
       "    <tr>\n",
       "      <th>50%</th>\n",
       "      <td>14.766250</td>\n",
       "      <td>14.981250</td>\n",
       "      <td>14.662500</td>\n",
       "      <td>14.767500</td>\n",
       "      <td>14.767500</td>\n",
       "      <td>1.539300e+06</td>\n",
       "    </tr>\n",
       "    <tr>\n",
       "      <th>75%</th>\n",
       "      <td>42.546248</td>\n",
       "      <td>43.051249</td>\n",
       "      <td>42.086249</td>\n",
       "      <td>42.539999</td>\n",
       "      <td>42.539999</td>\n",
       "      <td>2.188900e+06</td>\n",
       "    </tr>\n",
       "    <tr>\n",
       "      <th>max</th>\n",
       "      <td>121.080002</td>\n",
       "      <td>121.750000</td>\n",
       "      <td>120.169998</td>\n",
       "      <td>121.360001</td>\n",
       "      <td>121.360001</td>\n",
       "      <td>4.641260e+07</td>\n",
       "    </tr>\n",
       "  </tbody>\n",
       "</table>\n",
       "</div>"
      ],
      "text/plain": [
       "              Open         High          Low        Close    Adj_Close  \\\n",
       "count  4392.000000  4392.000000  4392.000000  4392.000000  4392.000000   \n",
       "mean     30.562539    30.893618    30.238833    30.572580    30.572580   \n",
       "std      29.914758    30.210974    29.615761    29.905778    29.905778   \n",
       "min       3.296875     3.390625     3.000000     3.250000     3.250000   \n",
       "25%       8.718125     8.803125     8.625000     8.712500     8.712500   \n",
       "50%      14.766250    14.981250    14.662500    14.767500    14.767500   \n",
       "75%      42.546248    43.051249    42.086249    42.539999    42.539999   \n",
       "max     121.080002   121.750000   120.169998   121.360001   121.360001   \n",
       "\n",
       "             Volume  \n",
       "count  4.392000e+03  \n",
       "mean   1.884027e+06  \n",
       "std    1.621609e+06  \n",
       "min    1.904000e+05  \n",
       "25%    1.088800e+06  \n",
       "50%    1.539300e+06  \n",
       "75%    2.188900e+06  \n",
       "max    4.641260e+07  "
      ]
     },
     "execution_count": 56,
     "metadata": {},
     "output_type": "execute_result"
    }
   ],
   "source": [
    "stock.describe()"
   ]
  },
  {
   "cell_type": "code",
   "execution_count": 57,
   "metadata": {},
   "outputs": [
    {
     "data": {
      "text/plain": [
       "Index(['Date', 'Open', 'High', 'Low', 'Close', 'Adj_Close', 'Volume'], dtype='object')"
      ]
     },
     "execution_count": 57,
     "metadata": {},
     "output_type": "execute_result"
    }
   ],
   "source": [
    "stock.columns"
   ]
  },
  {
   "cell_type": "code",
   "execution_count": 58,
   "metadata": {},
   "outputs": [
    {
     "name": "stdout",
     "output_type": "stream",
     "text": [
      "<class 'pandas.core.frame.DataFrame'>\n",
      "RangeIndex: 4392 entries, 0 to 4391\n",
      "Data columns (total 7 columns):\n",
      " #   Column     Non-Null Count  Dtype  \n",
      "---  ------     --------------  -----  \n",
      " 0   Date       4392 non-null   object \n",
      " 1   Open       4392 non-null   float64\n",
      " 2   High       4392 non-null   float64\n",
      " 3   Low        4392 non-null   float64\n",
      " 4   Close      4392 non-null   float64\n",
      " 5   Adj_Close  4392 non-null   float64\n",
      " 6   Volume     4392 non-null   int64  \n",
      "dtypes: float64(5), int64(1), object(1)\n",
      "memory usage: 240.3+ KB\n"
     ]
    }
   ],
   "source": [
    "stock.info()"
   ]
  },
  {
   "cell_type": "code",
   "execution_count": 59,
   "metadata": {},
   "outputs": [
    {
     "data": {
      "text/plain": [
       "Date         0\n",
       "Open         0\n",
       "High         0\n",
       "Low          0\n",
       "Close        0\n",
       "Adj_Close    0\n",
       "Volume       0\n",
       "dtype: int64"
      ]
     },
     "execution_count": 59,
     "metadata": {},
     "output_type": "execute_result"
    }
   ],
   "source": [
    "stock.isnull().sum()"
   ]
  },
  {
   "cell_type": "code",
   "execution_count": 60,
   "metadata": {},
   "outputs": [
    {
     "name": "stdout",
     "output_type": "stream",
     "text": [
      "0            NaN\n",
      "1            NaN\n",
      "2            NaN\n",
      "3            NaN\n",
      "4            NaN\n",
      "          ...   \n",
      "4387    113.2886\n",
      "4388    113.4698\n",
      "4389    113.6491\n",
      "4390    113.8157\n",
      "4391    114.0000\n",
      "Name: Adj_Close, Length: 4392, dtype: float64\n"
     ]
    }
   ],
   "source": [
    "close_px = stock['Adj_Close']\n",
    "mavg = close_px.rolling(window=100).mean()\n",
    "print (mavg)"
   ]
  },
  {
   "cell_type": "code",
   "execution_count": 61,
   "metadata": {},
   "outputs": [],
   "source": [
    "import matplotlib.pyplot as plt\n",
    "from matplotlib import style"
   ]
  },
  {
   "cell_type": "code",
   "execution_count": 62,
   "metadata": {},
   "outputs": [],
   "source": [
    "import matplotlib as mpl"
   ]
  },
  {
   "cell_type": "code",
   "execution_count": 63,
   "metadata": {},
   "outputs": [],
   "source": [
    "dfreg = stock.loc[:,['Adj_Close','Volume']]"
   ]
  },
  {
   "cell_type": "code",
   "execution_count": 64,
   "metadata": {},
   "outputs": [],
   "source": [
    "import math\n",
    "import numpy as np"
   ]
  },
  {
   "cell_type": "code",
   "execution_count": 65,
   "metadata": {},
   "outputs": [],
   "source": [
    "from sklearn.linear_model import LinearRegression\n",
    "from sklearn.neighbors import KNeighborsRegressor\n",
    "from sklearn import preprocessing"
   ]
  },
  {
   "cell_type": "code",
   "execution_count": 23,
   "metadata": {},
   "outputs": [],
   "source": [
    "from sklearn.linear_model import Ridge\n",
    "from sklearn.preprocessing import PolynomialFeatures\n",
    "from sklearn.pipeline import make_pipeline"
   ]
  },
  {
   "cell_type": "code",
   "execution_count": 24,
   "metadata": {},
   "outputs": [],
   "source": [
    "dfreg.fillna(value=-99999, inplace=True)"
   ]
  },
  {
   "cell_type": "code",
   "execution_count": 26,
   "metadata": {},
   "outputs": [],
   "source": [
    "forecast_out = int(math.ceil(0.01 * len(dfreg)))"
   ]
  },
  {
   "cell_type": "code",
   "execution_count": 27,
   "metadata": {},
   "outputs": [],
   "source": [
    "forecast_col = 'Adj_Close'\n",
    "dfreg['label'] = dfreg[forecast_col].shift(-forecast_out)"
   ]
  },
  {
   "cell_type": "code",
   "execution_count": 28,
   "metadata": {},
   "outputs": [],
   "source": [
    "X = np.array(dfreg.drop(['label'], 1))"
   ]
  },
  {
   "cell_type": "code",
   "execution_count": 29,
   "metadata": {},
   "outputs": [],
   "source": [
    "X = preprocessing.scale(X)"
   ]
  },
  {
   "cell_type": "code",
   "execution_count": 30,
   "metadata": {},
   "outputs": [],
   "source": [
    "X_lately = X[-forecast_out:]\n",
    "X = X[:-forecast_out]"
   ]
  },
  {
   "cell_type": "code",
   "execution_count": 31,
   "metadata": {},
   "outputs": [],
   "source": [
    "y = np.array(dfreg['label'])\n",
    "y = y[:-forecast_out]"
   ]
  },
  {
   "cell_type": "code",
   "execution_count": 32,
   "metadata": {},
   "outputs": [],
   "source": [
    "from sklearn.model_selection import train_test_split"
   ]
  },
  {
   "cell_type": "code",
   "execution_count": 34,
   "metadata": {},
   "outputs": [],
   "source": [
    "train, test = train_test_split(stock, test_size=0.20)"
   ]
  },
  {
   "cell_type": "code",
   "execution_count": 35,
   "metadata": {},
   "outputs": [],
   "source": [
    "X_train = np.array(train.index).reshape(-1, 1)\n",
    "y_train = train['Close']"
   ]
  },
  {
   "cell_type": "code",
   "execution_count": 36,
   "metadata": {},
   "outputs": [],
   "source": [
    "# Linear regression\n",
    "clfreg = LinearRegression(n_jobs=-1)"
   ]
  },
  {
   "cell_type": "code",
   "execution_count": 37,
   "metadata": {},
   "outputs": [
    {
     "data": {
      "text/plain": [
       "LinearRegression(copy_X=True, fit_intercept=True, n_jobs=-1, normalize=False)"
      ]
     },
     "execution_count": 37,
     "metadata": {},
     "output_type": "execute_result"
    }
   ],
   "source": [
    "clfreg.fit(X_train, y_train)"
   ]
  },
  {
   "cell_type": "code",
   "execution_count": 38,
   "metadata": {},
   "outputs": [],
   "source": [
    "clfpoly2 = make_pipeline(PolynomialFeatures(2), Ridge())"
   ]
  },
  {
   "cell_type": "code",
   "execution_count": 39,
   "metadata": {},
   "outputs": [
    {
     "name": "stderr",
     "output_type": "stream",
     "text": [
      "C:\\Users\\shivangi pandey\\anaconda3\\lib\\site-packages\\sklearn\\linear_model\\_ridge.py:148: LinAlgWarning: Ill-conditioned matrix (rcond=8.65027e-18): result may not be accurate.\n",
      "  overwrite_a=True).T\n"
     ]
    },
    {
     "data": {
      "text/plain": [
       "Pipeline(memory=None,\n",
       "         steps=[('polynomialfeatures',\n",
       "                 PolynomialFeatures(degree=2, include_bias=True,\n",
       "                                    interaction_only=False, order='C')),\n",
       "                ('ridge',\n",
       "                 Ridge(alpha=1.0, copy_X=True, fit_intercept=True,\n",
       "                       max_iter=None, normalize=False, random_state=None,\n",
       "                       solver='auto', tol=0.001))],\n",
       "         verbose=False)"
      ]
     },
     "execution_count": 39,
     "metadata": {},
     "output_type": "execute_result"
    }
   ],
   "source": [
    "clfpoly2.fit(X_train, y_train)"
   ]
  },
  {
   "cell_type": "code",
   "execution_count": 40,
   "metadata": {},
   "outputs": [],
   "source": [
    "# KNN Regression\n",
    "clfknn = KNeighborsRegressor(n_neighbors=2)"
   ]
  },
  {
   "cell_type": "code",
   "execution_count": 41,
   "metadata": {},
   "outputs": [
    {
     "data": {
      "text/plain": [
       "KNeighborsRegressor(algorithm='auto', leaf_size=30, metric='minkowski',\n",
       "                    metric_params=None, n_jobs=None, n_neighbors=2, p=2,\n",
       "                    weights='uniform')"
      ]
     },
     "execution_count": 41,
     "metadata": {},
     "output_type": "execute_result"
    }
   ],
   "source": [
    "clfknn.fit(X_train, y_train)"
   ]
  },
  {
   "cell_type": "code",
   "execution_count": 42,
   "metadata": {},
   "outputs": [],
   "source": [
    "X_test = np.array(test.index).reshape(-1, 1)\n",
    "y_test = test['Close']"
   ]
  },
  {
   "cell_type": "code",
   "execution_count": 43,
   "metadata": {},
   "outputs": [],
   "source": [
    "y_pred_reg = clfreg.predict(X_test)"
   ]
  },
  {
   "cell_type": "code",
   "execution_count": 44,
   "metadata": {},
   "outputs": [],
   "source": [
    "y_pred_poly2 = clfpoly2.predict(X_test)"
   ]
  },
  {
   "cell_type": "code",
   "execution_count": 45,
   "metadata": {},
   "outputs": [],
   "source": [
    "y_pred_knn = clfknn.predict(X_test)"
   ]
  },
  {
   "cell_type": "code",
   "execution_count": 46,
   "metadata": {},
   "outputs": [
    {
     "name": "stdout",
     "output_type": "stream",
     "text": [
      "[ 5.89316073e+01  6.91180637e+01  7.24521849e+01  3.50609354e+01\n",
      "  5.50042988e+01  6.32066462e+01  2.32790100e+01  5.01974369e+01\n",
      "  3.80610541e+00  6.08748068e+01  4.26087314e+01  4.00518899e+01\n",
      " -1.00748339e-01  6.15089035e+01  4.99247985e+00  1.13948109e+01\n",
      "  5.71520456e+01 -1.17804001e+01  3.33222832e+01 -2.84168238e+00\n",
      "  3.47950239e+01  4.63110378e+01 -6.32571363e-01  1.98221603e+01\n",
      "  7.26567322e+01  3.29745528e+01  1.47698416e+01  3.98268879e+01\n",
      "  8.42887477e+00  2.31767363e+01  6.86476048e+01 -1.22304042e+01\n",
      "  6.61930370e+01  2.71449543e+01 -1.23940421e+01  5.03201652e+01\n",
      "  5.85429674e+01  7.14703578e+01  1.90381537e+00  4.07201692e+00\n",
      "  2.83108740e+01 -1.29258651e+01  4.67814967e+01  3.04586208e+01\n",
      " -2.61668034e+00  5.88702431e+01  3.91927912e+01  4.35838317e+00\n",
      " -3.82350950e+00  6.81157818e+01  3.25450034e+01  5.82566011e+01\n",
      "  1.94130657e+01  3.58791247e+01 -4.47806092e+00  3.44063840e+01\n",
      " -1.37440544e+01  5.68794073e+00  1.52198457e+01  1.24175474e+01\n",
      "  3.98677974e+01  4.85406036e+01  5.68452247e+01  6.58453066e+01\n",
      " -6.05307526e+00 -6.99399291e+00  1.13129919e+01  6.92203373e+01\n",
      "  7.53976663e+01  6.31043725e+01  5.02792558e+01  5.19974532e+01\n",
      "  3.29540981e+01  1.36039219e+01  4.14019022e+01  5.99134344e+01\n",
      "  4.23565478e+00  7.51931190e+01  3.44268387e+01  4.33860112e+01\n",
      "  5.30406446e+01 -6.27807731e+00  1.62221275e+01 -5.80761848e+00\n",
      "  1.73675925e+01  4.03382562e+01  5.38383791e+01 -9.81674589e+00\n",
      "  2.15199030e+01 -1.04166600e+00  3.78427789e+01  5.52906650e+01\n",
      "  5.17519965e+01  4.28950976e+01  4.67201325e+01  4.85201489e+01\n",
      "  2.97427052e+01  6.68066790e+01  3.96974326e+00  5.46293868e+00\n",
      "  4.18519063e+01  3.98064332e+01  5.43702021e+01  6.16520866e+01\n",
      "  5.74930492e+00  6.69907716e+01  3.56745774e+01 -9.20310394e+00\n",
      "  5.05860768e+01  1.92289731e+01  4.59019432e+01  2.33336473e+00\n",
      "  1.26971868e+00  4.53701202e+01  1.54653025e+01  2.21744545e+01\n",
      "  5.95385224e+00 -7.85309165e+00  6.37998334e+01  1.93926109e+01\n",
      "  1.77971419e+01  1.68357695e+01  1.86766953e+01  4.81519637e+01\n",
      "  3.44882029e+01 -8.97810189e+00  2.68381333e+01  7.29430985e+01\n",
      " -1.16781265e+01  2.66064044e+00  2.02721644e+01  7.28408248e+01\n",
      "  3.75564127e+01  1.73266830e+01  3.68404971e+01  1.21311812e+01\n",
      "  1.60993991e+01  4.34064659e+01  5.51883914e+01  5.32656466e+01\n",
      " -1.37031449e+01  6.96089772e+01  7.13885389e+01  5.42270190e+01\n",
      "  1.96789772e+01  4.21178178e+01 -9.18264920e+00  6.30225536e+01\n",
      "  1.02426190e+00  8.61296736e+00  7.36794688e+01  1.01470722e+01\n",
      "  4.99519801e+01  1.32561914e+01  1.22130001e+01  8.96069779e+00\n",
      "  4.06450772e+01  2.84745118e+01  2.28903701e+01  3.55518490e+01\n",
      "  4.35905585e+01  1.71630452e+01  5.15611770e+00  4.71087724e+01\n",
      "  5.97497965e+01  2.66744954e+01  5.02178916e+01  1.47289321e+01\n",
      "  3.30154622e+01  3.71268633e+01 -7.64854433e+00  4.51451181e+01\n",
      "  7.47226601e+01  2.07835327e+01  1.40334712e+01  2.93745200e+01\n",
      "  7.08362611e+01  1.00380717e+00  2.09267158e+01  1.78108697e+00\n",
      "  3.88450608e+01  3.97859784e+01  3.20131804e+01  5.00542537e+01\n",
      "  6.21976375e+00  4.54110296e+01  2.29926437e+01  8.51069370e+00\n",
      "  2.13153557e+01  7.37612877e+01  7.05840775e+00  3.07858965e+01\n",
      "  3.83950567e+01  1.88812427e+01  3.04790755e+01  5.42679285e+01\n",
      "  3.86200587e+01  3.41746551e+00  5.48339341e+00  9.83352440e-01\n",
      "  5.06065315e+01  7.20021808e+01  2.58563062e+01 -3.55759799e+00\n",
      "  4.25678219e+01  3.00837088e+00  6.90976089e+01  2.39744708e+01\n",
      "  1.12311730e+01  5.56383955e+01  5.93339751e+00  7.36590141e+01\n",
      "  3.76177769e+01  4.41632910e+01  4.66178588e+01  5.62657653e+00\n",
      "  2.96404315e+01  1.82880554e+01  3.34654663e+01  4.86428772e+01\n",
      "  5.52497556e+01  7.28612796e+01  6.33293746e+01  4.72519555e+01\n",
      "  1.08016236e+01 -6.87126452e+00  3.47745692e+01  3.63086740e+01\n",
      "  2.90472443e+01  1.68562242e+01  5.25088215e+01 -1.35395071e+01\n",
      "  4.13200833e+01  4.38155606e+01  4.82542373e+01  4.36723775e+01\n",
      "  4.09723529e+01  1.01266175e+01  6.48634795e+01 -1.26190441e+01\n",
      "  1.35834672e+01  6.54157572e+01  3.85791493e+01  4.03791657e+01\n",
      "  6.53339383e+01  5.23860931e+01  1.10675352e+01  3.52859375e+01\n",
      " -9.16219447e+00  2.08039874e+01  4.52202102e+00  1.52607552e+01\n",
      "  2.87891563e-01 -5.33715965e+00 -1.11053940e+01  1.51517546e+00\n",
      "  3.43450198e+01  4.21587273e+01 -1.25576799e+01  4.23223652e+01\n",
      "  6.09157163e+01  2.80858719e+01  5.03815294e+01 -8.32355047e+00\n",
      "  7.38021972e+01  3.54904848e+01 -1.14326697e+01  2.50381169e+01\n",
      " -1.41122395e+01  1.54039383e+01  4.12382644e+01  6.51498457e+01\n",
      " -7.15763077e+00  1.14699029e+00  1.08562610e+00  3.71677728e+01\n",
      "  1.57925782e+01  5.16701775e+01  5.73156835e+01  1.13539014e+01\n",
      "  2.35381946e+00 -8.30309574e+00  8.87887887e+00  4.77837785e+01\n",
      "  2.10903537e+01  2.04767117e+01  5.53724840e+01  5.59247617e+01\n",
      " -4.64169877e+00  5.08110788e+01  5.61906732e+01  3.13995384e+01\n",
      "  5.64770395e+01  3.21563635e+01  4.97269780e+01  1.04129837e+01\n",
      "  3.70654991e+01 -1.25372252e+01  1.68153148e+01  7.05908043e+01\n",
      "  2.98791614e+00  5.41861095e+01  2.16017220e+01  3.46313860e+01\n",
      "  3.23404561e+01 -3.90532843e+00  5.20383627e+01  2.63881292e+01\n",
      "  1.28880063e+01 -1.03485689e+01  1.71425905e+01  8.32660111e+00\n",
      "  3.83541472e+01  3.90165221e-01  2.76972320e+01  5.70088625e+01\n",
      "  7.20430903e+01  5.91156999e+01 -1.02667500e+01  5.25839136e+00\n",
      " -1.37849638e+01  5.68861341e+01 -2.10531204e+00  6.49657531e+01\n",
      "  3.99905257e+01  7.18180882e+01  6.47407511e+01  7.21862734e+01\n",
      "  7.35567404e+01  1.35425577e+01  4.19950895e+01 -6.25762257e+00\n",
      "  3.33836474e+01  7.50294811e+01  6.32475557e+01  4.36110133e+01\n",
      "  2.71858637e+01  2.54267568e+01  6.29202800e+01  2.46903865e+01\n",
      "  2.80449624e+01  6.81295097e+00  1.26220948e+01  3.63291288e+01\n",
      "  3.67995876e+01  5.57815786e+01  6.88316974e+01 -9.24401340e+00\n",
      "  7.45590223e+01  7.31271911e+01 -6.85080979e+00  5.29383709e+01\n",
      " -7.77127272e+00  5.24679121e+01  5.77861423e+01  1.32766462e+01\n",
      "  1.90039710e+01 -6.89171926e+00  6.28895140e-02  4.22610010e+01\n",
      "  2.08653516e+01  2.74517752e+01 -1.41657803e-01  6.44476580e+00\n",
      " -3.96669263e+00  4.70883176e+01  7.32090100e+01  4.24860030e+01\n",
      "  6.95067036e+01  6.52316646e+01  2.88017875e+01  1.07198047e+01\n",
      "  6.07929879e+01  6.94862488e+01  4.46337498e+01  7.12453558e+01\n",
      " -9.59174384e+00  3.09904438e+01  5.12610829e+01 -9.93947428e+00\n",
      " -1.24963157e+01 -1.08257546e+00 -2.59622560e+00  5.71725004e+01\n",
      "  2.29108248e+01  1.71972278e+00  1.66107674e+01  2.95586126e+01\n",
      "  8.14250853e+00  2.27200054e+00  3.40995630e+01  5.72338646e+01\n",
      " -2.20758570e+00  7.29226437e+01  3.11131722e+01  1.98563429e+00\n",
      "  2.40971992e+01 -1.94167419e+00  5.52702103e+01  1.65163172e-01\n",
      "  1.14561751e+01  4.57383054e+01  2.00676171e+01  4.82337826e+01\n",
      "  5.46361136e+01  1.41152902e+01  6.97317056e+01  5.23793663e+00\n",
      "  7.38635614e+01  6.20816360e+01  5.40429264e+01  4.97883422e+01\n",
      "  3.94791575e+01  5.74257806e-01 -5.93034687e+00  5.30815540e+01\n",
      "  1.99244340e+01 -4.13033048e+00 -3.10759390e+00  9.00160726e+00\n",
      "  4.84792394e+01  6.08134426e+01  5.30201898e+01  5.94020661e+01\n",
      "  2.99063430e+01  3.13381742e+01  5.83112385e+00  4.89906077e+01\n",
      "  6.61725823e+01 -8.77355457e+00 -1.18213096e+01  5.23042742e+01\n",
      "  5.80929633e+01  6.80544176e+01  3.39701078e+00  7.33521931e+01\n",
      "  5.64361300e+01  3.64109477e+01  7.47022054e+01  6.93839752e+01\n",
      "  5.70839546e+00  2.26858227e+01  7.18113614e+00  4.04814393e+01\n",
      "  6.84839670e+01  5.14247208e+01  4.83565110e+01  5.91294277e+00\n",
      "  3.38131968e+01 -1.15963075e+01  3.77200505e+01  3.61654909e+01\n",
      "  5.98725249e+01  1.73062283e+01  2.26527367e-01 -1.10031203e+01\n",
      "  7.46408412e+01  5.27133689e+01  4.42246552e+01 -1.29054104e+01\n",
      "  5.13429018e+01 -2.26894990e+00 -2.88259185e+00  4.41223815e+01\n",
      "  7.17771788e+01  1.39516523e+01  3.15155400e+00  7.24250033e+00\n",
      "  5.02383463e+01  7.23294565e+01  6.04043480e+01  3.28518244e+01\n",
      "  4.15041759e+01  1.57721234e+01  2.92722463e+01  2.67154049e+01\n",
      "  1.27448232e+01  7.42112918e+01 -3.23032229e+00  9.43115662e+00\n",
      "  3.84564209e+01  3.28313697e+01  1.52531902e-03  5.12893611e-01\n",
      "  2.36267404e+01  6.28112794e+00  3.69710489e-01  4.50837539e+01\n",
      " -5.48034277e+00  1.60789444e+01  2.82904192e+01  1.31948273e+01\n",
      "  4.29769166e+01 -1.01849311e+01  6.12634467e+01  3.49928444e+00\n",
      "  2.10085348e+01  9.77888706e+00 -8.24173155e+00  1.86562406e+01\n",
      "  6.35134672e+01  4.59633074e+01  4.90315172e+01  3.90086986e+01\n",
      "  4.09109887e+01  4.70269534e+01  7.69250443e+00  2.36471951e+01\n",
      " -4.94851975e+00  5.26724594e+01 -4.08942102e+00  1.64880391e+01\n",
      "  2.87608781e+01  6.13657204e+01  3.89677892e+01  2.00267076e+01\n",
      "  7.02021644e+01  2.23380923e+01  5.94225208e+01  5.03406200e+01\n",
      "  5.10769903e+01  2.50585716e+01  8.81751467e+00  6.92612468e+01\n",
      "  2.65108576e+01  1.58334876e+01  4.49201161e+01  9.30842823e+00\n",
      "  2.36676499e+01  3.65745856e+01  6.42907470e+01  4.25269125e+01\n",
      "  6.38202882e+01 -8.52809779e+00  2.35449215e+01  5.49429346e+01\n",
      "  9.41070189e+00  6.50475721e+01  5.53929387e+01  4.39791984e+01\n",
      "  7.18794524e+01  3.09699891e+01  6.75430493e+01  5.03610747e+01\n",
      "  4.62087642e+01  6.24498211e+01  4.15859948e+01  5.10974450e+01\n",
      "  7.33726478e+01  6.89953353e+01  6.76862324e+01  5.97907060e+01\n",
      "  6.38816523e+01  6.64794033e+01  2.19699071e+01 -1.36894170e+00\n",
      "  5.01360727e+01 -1.30895030e+01  5.49224799e+01  3.68609518e+01\n",
      "  5.83588748e+01 -4.45760619e+00 -2.39167829e+00  4.08291697e+01\n",
      "  5.62724922e+01  1.48721152e+01  4.96247044e+01  6.19384528e+01\n",
      "  2.34017384e+01  5.96679776e+01  3.75973221e+01 -4.33487780e+00\n",
      "  7.87659701e+00  3.24427298e+01  3.26268223e+01  4.56973959e+01\n",
      " -1.28849556e+01  6.58043971e+01  4.83974205e+01 -4.06896628e+00\n",
      "  2.17858146e+01  4.27519145e+01  1.68971337e+01  2.05789854e+01\n",
      "  4.40814721e+01  8.83796940e+00 -8.05763896e+00 -1.18484912e+00\n",
      "  6.05066216e+01  2.72200463e+00 -1.18622191e+01  5.34088297e+01\n",
      "  5.44520210e+01  2.02926191e+01  2.47108412e+01  4.70064987e+01\n",
      "  4.23837294e+01  6.39839260e+01  4.10132623e+01 -1.89294127e-02\n",
      "  1.25198211e+01  5.50656630e+01 -4.10987575e+00 -1.83940053e+00\n",
      "  6.47202963e+01  1.69584979e+01  3.86814229e+01  1.53834835e+01\n",
      "  1.60175802e+01  1.65835858e+00 -3.08713916e+00  2.48131148e+01\n",
      "  4.91542455e+01  4.39929263e+00  4.52064823e+01  5.44248395e+00\n",
      "  4.66383135e+01  5.38997433e+01  5.23247290e+01  2.28699153e+01\n",
      "  3.63495835e+01  7.17976335e+01  1.58948518e+01  4.21382726e+01\n",
      "  5.80520538e+01  7.47635696e+01  5.75406855e+01  2.85767855e+01\n",
      "  5.86043316e+01  3.47132050e+01  1.96380677e+01  1.74494114e+01\n",
      "  1.12925372e+01  5.78270518e+01 -3.05295656e-01  7.32294647e+01\n",
      "  4.67610419e+01  7.28817343e+01  3.61859457e+01  6.05884405e+01\n",
      " -1.06962993e+01  5.83997843e+01  3.64927666e+01  4.58610337e+01\n",
      " -5.72579955e+00  7.18589977e+01  3.97655237e+01  2.72676826e+01\n",
      "  4.07882603e+01  7.49476622e+01  7.23499113e+01 -2.12576678e+00\n",
      "  7.16544504e+01  1.78789608e+01  4.63314926e+01  2.95381579e+01\n",
      " -9.57128911e+00  2.75335942e+01 -1.26666804e+00 -5.00988394e+00\n",
      "  1.12107183e+01  3.32609190e+01  9.84025126e+00  1.18789976e+00\n",
      "  3.39972894e+01  4.69246798e+01  6.66430411e+01  4.74702307e+00\n",
      "  7.20839998e+01  3.69223160e+01 -2.67804453e+00  2.39472893e+00\n",
      "  4.10541718e+01 -1.21076758e+01  5.34021029e+00  6.14066298e+01\n",
      " -9.91901954e+00  1.73471378e+01  2.29721890e+01  7.39249256e+01\n",
      " -3.00532024e+00  1.91062447e+01  5.01293458e+00  5.52293008e+01\n",
      "  1.58743971e+01  5.55770313e+01  2.09062611e+01 -1.16576717e+01\n",
      "  1.45857490e+01  6.34930124e+01  5.47383873e+01  1.29084610e+01\n",
      "  3.31381906e+01  6.70521358e+01  2.46982099e-01  5.67429510e+01\n",
      "  1.39107429e+01  5.67634057e+01 -5.60307116e+00  5.86656958e+01\n",
      "  1.55062119e+01  1.10470804e+01  3.28109149e+01  3.04928034e+00\n",
      " -4.27351360e+00  6.02611648e+01  5.56588502e+01  1.82266912e+01\n",
      "  5.27884609e+00  3.86746961e+00  6.07658063e+00  1.23357285e+01\n",
      "  5.49838441e+01  2.84949665e+01  2.92517916e+01  6.22043644e+01\n",
      "  5.19565438e+01  2.11312631e+01  5.11997187e+01  6.35748314e+01\n",
      " -7.70990852e+00  4.63928568e+01  7.17158146e+01  3.62882193e+01\n",
      "  7.46817507e+01  1.93517015e+01 -8.99855662e+00  6.05270764e+01\n",
      "  1.31539178e+01  3.65336761e+01  6.43521112e+01 -4.39624199e+00\n",
      "  9.73797760e+00  2.14927215e+00  2.22358187e+01  6.60498539e+01\n",
      "  1.29493705e+01  4.23632746e+01  7.08158064e+01  4.30996450e+01\n",
      "  6.40452902e+01  3.53268469e+01  2.26449133e+01 -5.31670492e+00\n",
      "  6.64931311e+00 -1.51212483e+00  4.56293048e+00  6.37384692e+01\n",
      " -5.39852384e+00  2.49767527e+01  2.70426806e+01 -4.96897448e+00\n",
      "  4.08496245e+01  4.84383299e+01  7.35362857e+01  6.94453394e+01\n",
      "  4.08087150e+01  3.66768592e+01  3.80882357e+01 -8.02936077e-02\n",
      "  5.76975965e+00  4.66996777e+01  4.68837703e+01 -1.42963321e+01\n",
      " -1.23531326e+01  9.26751877e+00  1.50562078e+01 -1.07167541e+01\n",
      "  3.35472853e+01  1.60584897e+01  6.78703250e+01  7.54181210e+01\n",
      "  7.53772116e+01  7.33317384e+01  5.07292599e+01  2.03539833e+01\n",
      "  3.32813738e+01  2.89245159e+01  4.86975146e+00 -1.14393965e+00\n",
      "  5.60270354e+01  5.06269862e+01  7.04680759e+01  1.28266421e+01\n",
      "  2.16221767e+01  7.08567159e+01  3.90700628e+01  5.40224717e+01\n",
      " -2.28940463e+00  6.43930206e+01  1.04471663e+00  7.39658351e+01\n",
      " -2.06440258e+00  7.50841184e+00  4.35087396e+01 -1.00826574e+01\n",
      " -8.87582823e+00 -1.13713055e+01 -9.38719652e+00  6.58862161e+01\n",
      "  3.15222668e+01  6.07520784e+01  3.58110336e+00  6.70112263e+01\n",
      "  6.66021317e+01  7.37817425e+01  7.04885307e+01  5.88497884e+01\n",
      "  6.95476130e+01  2.65517670e+01  5.73565929e+01  7.40885635e+01\n",
      "  3.60427625e+01  2.09471706e+01  6.84430575e+01  4.29564618e+01\n",
      "  2.65722218e+01  6.62953107e+01  2.23994565e+01 -1.38054186e+01\n",
      "  4.69451345e+01  7.63114023e+00  4.91066092e+00  6.56816687e+01\n",
      " -8.73264511e+00 -1.07781183e+01  2.25835491e+01 -1.30485935e+01\n",
      "  4.99110706e+01  6.47612058e+01  4.28132787e+01  3.11540817e+01\n",
      "  1.47084774e+01  1.99448887e+01  2.93336105e+01  2.60608535e+01\n",
      " -7.62808960e+00  3.83132378e+01  5.58429428e+01  3.76586863e+01\n",
      "  5.92997925e+01 -5.52125223e+00  6.12020825e+01  7.50090264e+01\n",
      "  6.30634631e+01  4.71292271e+01 -9.59847070e-01  6.72975925e+01\n",
      "  8.59251262e+00  1.51584815e+01  3.50404807e+01 -6.91217399e+00\n",
      "  1.96585225e+01 -4.89388241e-01  2.57949420e+01  3.21359088e+01\n",
      " -7.75081799e+00  2.61835819e+01  6.90157900e+01 -9.69401750e+00\n",
      "  4.94815212e+01  4.93587929e+01  6.14475393e+01  4.88065151e+01\n",
      " -6.44171516e+00  2.89040612e+01  8.65387682e+00  4.38973795e+01\n",
      "  3.72495917e+01 -4.98942921e+00  8.67433155e+00  3.35063758e+01\n",
      "  6.52521194e+01  1.40948354e+01  5.31429182e+01 -3.92578316e+00\n",
      "  2.25630944e+01 -1.18417643e+01 -3.68032638e+00]\n"
     ]
    }
   ],
   "source": [
    "print (y_pred_reg)"
   ]
  },
  {
   "cell_type": "code",
   "execution_count": 47,
   "metadata": {},
   "outputs": [
    {
     "name": "stdout",
     "output_type": "stream",
     "text": [
      "[ 61.75170336  85.88378417  94.7024342   21.79260346  53.57899022\n",
      "  71.36367133  10.64255265  44.43275681   4.6350285   66.02830439\n",
      "  31.9131307   28.22433409   5.29387078  67.45717943   4.55827872\n",
      "   5.13564684  57.97044069  10.97875229  19.79082939   6.1279604\n",
      "  21.47845745  37.72743876   5.43173208   8.44617571  95.25822781\n",
      "  19.40528088   6.11346622  27.91249405   4.66017056  10.57056926\n",
      "  84.67596381  11.30918183  78.52081837  13.67660884  11.43138734\n",
      "  44.65454534  60.91487822  92.05839689   4.87800333   4.61283076\n",
      "  14.71137287  11.83610355  38.50633758  16.76276229   6.04793735\n",
      "  61.61916322  27.04478965   4.59215317   6.50133382  83.32148012\n",
      "  18.93582903  60.30221515   8.21852615  22.77730883   6.77210879\n",
      "  21.02451257  12.48128634   4.53999687   6.2789708    5.38285758\n",
      "  27.96903854  41.4987847   57.33156323  77.66872632   7.4953273\n",
      "   7.97569251   5.11771436  86.14754925 102.87062716  71.12501035\n",
      "  44.58054752  47.74727127  19.38275525   5.72310915  30.13876857\n",
      "  63.89324875   4.60060513 102.29194953  21.04825071  33.08741426\n",
      "  49.72871469   7.6069098    6.67730117   7.37595765   7.18274408\n",
      "  28.62421     51.27390735   9.6336056    9.46391968   5.54563495\n",
      "  25.25208445  54.15363851  47.28750463  32.34289245  38.40422976\n",
      "  41.463263    16.05804573  80.03654994   4.6210268    4.54375126\n",
      "  30.79344454  27.88424742  52.31846638  67.78209995   4.53933157\n",
      "  80.49426654  22.52857085   9.24552397  45.13719624   8.11831248\n",
      "  37.05747881   4.81022737   4.99181813  36.19674329   6.37272986\n",
      "   9.88772572   4.53822396   8.44584627  72.75632424   8.20732299\n",
      "   7.38609243   6.94141388   7.82597119  40.82679275  21.11956759\n",
      "   9.10707837  13.41352444  96.03920792  10.90480741   4.76364351\n",
      "   8.70448009  95.75990221  24.88137712   7.16377036  23.96925285\n",
      "   5.30933501   6.62632301  33.11864948  53.94802273  50.1619083\n",
      "  12.44837825  87.15375024  91.83983652  52.03610328   8.36572134\n",
      "  31.18418368   9.23285261  70.93438897   5.0402815    4.67923138\n",
      "  98.06281233   4.89186602  43.99102414   5.61742869   5.32999991\n",
      "   4.7190093   29.05636286  14.86104309  10.37128708  22.38014778\n",
      "  33.40053488   7.08855856   4.55220103  39.05350846  63.5335921\n",
      "  13.2747839   44.46967887   6.09883021  19.45038336  24.33159214\n",
      "   8.33117248  35.83606126 100.96747194   9.00804089   5.86046957\n",
      "  15.7037661   90.37170101   5.04443111   9.09495061   4.89875118\n",
      "  26.57591942  27.85601787  18.36503737  44.17478056   4.53933717\n",
      "  36.26254386  10.44207504   4.66847126   9.33506659  98.28902347\n",
      "   4.56175299  17.0918861   25.97647248   7.93279414  16.78320445\n",
      "  52.11669307  26.27516275   4.67266296   4.54332457   5.04859781\n",
      "  45.17444277  93.48569956  12.5974757    6.3963267   31.85200941\n",
      "   4.71893844  85.83108239  11.14336217   5.10005513  54.85592566\n",
      "   4.53825787  98.00630224  24.96053262  34.28635791  38.2343916\n",
      "   4.54081586  15.9590797    7.62771246  19.95101918  41.67664934\n",
      "  54.07134096  95.81572919  71.65062806  39.29427047   5.01182702\n",
      "   7.91098686  21.45441191  23.30521737  15.39349598   6.95048234\n",
      "  48.71301684  12.317429    30.02062462  33.74694003  41.00303502\n",
      "  33.52626131  29.52156115   4.88839902  75.28946045  11.60120452\n",
      "   5.71675603  76.622956    26.22070173  28.68160837  76.42461553\n",
      "  48.48026448   5.06555639  22.06067355   9.22019834   9.02040534\n",
      "   4.58184024   6.29442653   5.20042666   7.15403956  10.49860593\n",
      "   4.94581394  20.95340063  31.24455355  11.55468581  31.48671617\n",
      "  66.11999463  14.50736093  44.76567015   8.71607695  98.40223151\n",
      "  22.30616679  10.72908161  11.9474917   12.78053311   6.34905955\n",
      "  29.9027539   75.97934852   8.06292305   5.01574242   5.02793511\n",
      "  24.38362814   6.50156733  47.13479557  58.31274647   5.12664645\n",
      "   4.80718779   8.70413993   4.70920577  40.19585566   9.19530066\n",
      "   8.82462359  54.31843852  55.43798563   6.84253495  45.54784739\n",
      "  55.98146702  17.72077681  56.56998233  18.51757639  43.58826285\n",
      "   4.93849109  24.25366623  11.53921373   6.9323625   89.7231925\n",
      "   4.72143153  51.95558181   9.51593909  21.28657135  18.71492757\n",
      "   6.53422435  47.82413813  13.0346179    5.51091118   9.98237553\n",
      "   7.07923394   4.65017893  25.92238717   5.17686076  14.15984379\n",
      "  57.6718197   93.59597025  62.150246     9.9279672    4.5489575\n",
      "  12.51426274  57.41652488   5.8737517   75.5354648   28.13908188\n",
      "  92.99032682  74.99481879  93.9824556   97.72400794   5.70410103\n",
      "  31.00348391   7.59668055  19.85937969 101.83023702  71.45925526\n",
      "  33.43194087  13.71197709  12.25282711  70.69649649  11.67952261\n",
      "  14.47048986   4.55222076   5.43742302  23.33054373  23.91776333\n",
      "  55.14653725  85.14751328   9.2709179  100.50890171  96.54303409\n",
      "   7.90026236  49.5324916    8.39977182  48.63536441  59.30296378\n",
      "   5.62350857   7.99770764   7.92172844   5.25377447  31.39577711\n",
      "   9.05760113  13.94353572   5.30406563   4.54253336   6.55907156\n",
      "  39.0191822   96.76740085  31.72997175  86.88836279  76.1770742\n",
      "  15.16366243   4.99587555  65.84512885  86.83533653  35.02401428\n",
      "  91.45801336   9.48952439  17.29980858  46.37534889   9.71306631\n",
      "  11.5083208    5.55740094   6.04076499  58.01316914  10.38541052\n",
      "   4.90935565   6.84278794  15.88021427   4.6332699    4.81944855\n",
      "  20.67048983  58.14145696   5.90773495  95.98331262  17.42538179\n",
      "   4.86451299  11.23378963   5.82026654  54.1124812    5.2292693\n",
      "   5.14927551  36.79140752   8.58604435  40.96775241  52.84507507\n",
      "   5.88748734  87.47277874   4.54957206  98.57217165  68.76188235\n",
      "  51.67429461  43.69790191  27.43462391   5.13551803   7.43533508\n",
      "  49.80732346   8.50415545   6.62608219   6.22519721   4.72401353\n",
      "  41.39227084  65.89089712  49.68943591  62.77295071  16.21727942\n",
      "  17.65719609   4.53868359  42.28458264  78.47055869   8.98301189\n",
      "  11.00844979  48.32543779  59.9536248   83.16593641   4.67481449\n",
      "  97.16070017  56.48570378  23.43201993 100.91009089  86.57046141\n",
      "   4.53975802  10.23099199   4.5674413   28.82540316  84.25797001\n",
      "  46.67830783  41.17970423   4.53830886  20.34353537  10.8459589\n",
      "  25.09280001  23.12841106  63.80323212   7.15430911   5.21477113\n",
      "  10.42747886 100.73805021  49.10230365  34.38206163  11.82032407\n",
      "  46.52669174   5.92832983   6.14273206  34.22264082  92.88043184\n",
      "   5.83372504   4.70196499   4.570516    44.50661801  94.36977775\n",
      "  64.97877651  19.27038329  30.28683277   6.49338691  15.60633705\n",
      "  13.30936657   5.470982    99.53806896   6.27104916   4.78068219\n",
      "  26.05772853  19.24796013   5.2686825    5.14914524  10.89048969\n",
      "   4.54000393   5.18153979  35.73805206   7.2206235    6.61788642\n",
      "  14.69274094   5.59929153  32.46629631   9.87383212  66.90211966\n",
      "   4.66422758   9.14498902   4.83207289   8.66843136   7.81538282\n",
      "  72.08221589  37.15753732  42.35642867  26.79594944  29.43400346\n",
      "  38.91630588   4.59776017  10.90522792   6.9775299   49.02430966\n",
      "   6.60922707   6.78986293  15.12559593  67.13309571  26.74083947\n",
      "   8.56256214  88.70141672   9.99640965  62.8175577   44.69156987\n",
      "  46.03582651  11.96340828   4.70203244  86.25317482  13.13713632\n",
      "   6.51797941  35.47744561   4.76372265  10.91998323  23.63579205\n",
      "  73.91972595  31.79095643  72.80460292   8.83638635  10.83170754\n",
      "  53.45628678   4.7778129   75.73257568  54.35968122  34.00016895\n",
      "  93.15529737  17.27893948  81.87571604  44.72861147  37.55930836\n",
      "  69.60769008  30.40559152  46.07348291  97.2169541   85.56782964\n",
      "  82.23590186  63.6234038   72.94954142  79.22624708   9.75340779\n",
      "   5.64167559  44.3220931   11.96295417  53.41541979  23.99502322\n",
      "  60.52063915   6.76338237   5.96998068  29.31749895  56.14927269\n",
      "   6.1503551   43.40587264  68.43445141  10.72949628  63.35417364\n",
      "  24.93413038   6.71138248   4.61128783  18.82516483  19.02466779\n",
      "  36.72506048  11.80456167  77.56880467  41.25049146   6.60082512\n",
      "   9.6339818   32.12759317   6.9686705    8.88533575  34.15899204\n",
      "   4.70440647   8.56222782   5.58711478  65.20616625   4.75539575\n",
      "  11.03821559  50.43865286  52.48019242   8.71641759  11.69514887\n",
      "  38.88204793  31.57780893  73.19144714  29.58001834   5.273686\n",
      "   5.40992683  53.70184736   6.61764609   5.78739333  74.94577162\n",
      "   6.99608081  26.35698237   6.3412036    6.59267912   4.92011382\n",
      "   6.21761499  11.77353637  42.57237666   4.58947247  35.93422415\n",
      "   4.54419504  38.26832507  51.39384421  48.36411884  10.35718073\n",
      "  23.35588716  92.93537079   6.54272562  31.21436008  59.86664799\n",
      " 101.08228528  58.78520154  14.955142    61.04659865  21.38237778\n",
      "   8.34288807   7.22089646   5.11327394  59.38949658   5.34552815\n",
      "  96.82353523  38.47228456  95.87157326  23.15361787  65.38838544\n",
      "  10.21665927  60.60812829  23.53376937  36.99085852   7.33671425\n",
      "  93.10029011  27.8278054   13.7829185   29.25934917 101.59979062\n",
      "  94.4251778    5.88051419  92.55115676   7.42567933  37.76111607\n",
      "  15.86054061   9.47652856  14.01536517   5.61119326   7.00498998\n",
      "   5.09568301  19.72243279   4.84165416   5.00769934  20.55333614\n",
      "  38.7451869   79.63085203   4.56944456  93.70630925  24.07243681\n",
      "   6.06955689   4.80115988  29.63854383  11.21824496   4.54667008\n",
      "  67.22560567   9.69978017   7.17324868  10.4278833   98.74226549\n",
      "   6.18745689   8.05227186   4.55745924  54.03021781   6.5344598\n",
      "  54.731634     9.08248371  10.89006967   6.04814212  72.03419338\n",
      "  53.04838537   5.51668366  19.58610068  80.64714613   5.20997256\n",
      "  57.11945795   5.82045524  57.16184485   7.27836148  61.17847277\n",
      "   6.38859546   5.06132089  19.22555404   4.71400349   6.68561308\n",
      "  64.66114812  54.89739037   7.59697201   4.54836003   4.62964978\n",
      "   4.53837912   5.36150958  53.538072    14.87982872  15.58690247\n",
      "  69.04320346  47.67047272   9.22055895  46.26202106  72.2263859\n",
      "   8.3653953   37.86225047  92.71571745  23.27990809 100.85272692\n",
      "   8.1849679    9.11957894  65.25169543   5.58728547  23.58474655\n",
      "  74.06584281   6.73730558   4.82577076   4.83835202   9.92835411\n",
      "  78.16935922   5.52827986  31.5474276   90.3175647   32.65191444\n",
      "  73.33679551  22.10963558  10.2031379    7.14459588   4.54723214\n",
      "   5.68506812   4.57943278  72.61159067   7.18247307  11.8998444\n",
      "  13.5884871    6.98666618  29.34659946  41.32134699  97.66760031\n",
      "  86.72933525  29.28841552  23.76370465  25.5724977    5.28879897\n",
      "   4.53914396  38.37022797  38.67685885  12.93223143  11.40073349\n",
      "   4.75820609   6.21783097  10.23059437  20.04293191   6.60946691\n",
      "  82.70022749 102.92858885 102.81268255  97.10446332  45.39828061\n",
      "   8.75233256  19.74521458  15.27827181   4.56355424   5.57517801\n",
      "  55.64667538  45.21170639  89.39986044   5.49369621   9.52898663\n",
      "  90.42585439  26.87874248  51.63417903   5.93522894  74.16333943\n",
      "   5.03614895  98.85574676   5.86027794   4.58561579  33.2750817\n",
      "   9.80654751   9.04483166  10.68553441   9.36033462  77.76871628\n",
      "  17.84839933  65.75364355   4.65606546  80.54520932  79.52959832\n",
      "  98.34561895  89.45370642  61.57501732  86.99446654  13.17144575\n",
      "  58.3984937   99.19660047  22.97752881   9.1074346   84.15364234\n",
      "  32.43541973  13.18862608  78.77237295  10.0374479   12.53077655\n",
      "  38.77937654   4.59355834   4.56172743  77.26944959   8.95840352\n",
      "  10.27250212  10.16148486  11.93113905  43.91764112  75.04388304\n",
      "  32.21976183  17.46737614   6.09153782   8.51580264  15.66474325\n",
      "  12.76424111   8.31979903  25.86837016  55.27134123  25.01338835\n",
      "  62.55017193   7.23980119  66.76373897 101.7725998   71.02966551\n",
      "  39.0878518    5.52230789  81.2602015    4.6770452    6.25591528\n",
      "  21.76833591   7.9324871    8.35429616   5.39347992  12.54777909\n",
      "  18.49573387   8.3882959   12.86512008  85.62044604   9.55475969\n",
      "  43.1512436   42.93365617  67.31818394  41.9621208    7.68935861\n",
      "  15.25912755   4.68365497  33.87341787  24.48790507   6.99581954\n",
      "   4.68589238  19.99694139  76.22654831   5.88070728  49.92536471\n",
      "   6.54248967  10.14763466  11.02332415   6.44443289]\n"
     ]
    }
   ],
   "source": [
    "print (y_pred_poly2)"
   ]
  },
  {
   "cell_type": "code",
   "execution_count": 48,
   "metadata": {},
   "outputs": [
    {
     "name": "stdout",
     "output_type": "stream",
     "text": [
      "[ 42.677502   99.744999   90.7649995  19.40125    35.4449995  68.2225\n",
      "  12.075      48.0025005   7.34625    62.0424995  42.0424995  32.6949995\n",
      "   6.3475     65.8050005   7.55375    10.74375    33.9799995   5.109375\n",
      "  16.4250005   5.75625    17.6475     36.695       6.645      10.96625\n",
      "  93.4850005  16.0375     10.30125    33.7074985   9.03875    12.50375\n",
      " 104.794998    5.703125   79.6799965  13.01        5.53125    43.772501\n",
      "  40.389999   83.5750005   7.445       7.275      16.2887505   5.03125\n",
      "  37.4449995  12.09625     4.9575     42.6125015  28.79        7.18375\n",
      "   6.7125    105.975002   15.75875    42.2875005  11.05       21.87625\n",
      "   7.035      16.8850005   3.8046875   8.16375    10.48125    11.01625\n",
      "  33.7074985  47.800001   32.9400005  75.2425005   6.28875     6.4275\n",
      "  10.765      97.040001  113.         70.7524985  43.772501   43.094999\n",
      "  15.9412505  11.10125    42.         49.005001    7.17375   113.665001\n",
      "  16.8825     42.365      31.55        6.54625    10.40375     6.33\n",
      "  11.11375    32.767502   33.4699995   4.94875    12.38875     6.42375\n",
      "  24.755      36.9300005  45.7474995  44.057501   36.4574985  47.800001\n",
      "  13.1425     79.639999    7.105       8.49       43.4325005  33.782499\n",
      "  36.2074985  63.6849995   8.1275     75.895      21.3374995   4.6875\n",
      "  44.785      11.95375    32.9174995   7.81        6.89       37.5775015\n",
      "  10.64125    12.215       7.66        6.475      65.942501   11.38375\n",
      "  11.09       11.05375    11.63375    41.674999   17.05375     4.72875\n",
      "  11.45375    93.2749975   5.3515625   7.36       12.04125    90.244999\n",
      "  26.415      10.9825     24.495      11.5125     10.595      41.949999\n",
      "  35.875      33.2649995   3.859375  106.4799995  88.029999   35.4225005\n",
      "  10.87625    43.3475      4.6875     71.107498    6.78125     8.9975\n",
      " 109.920002   10.21125    52.567499   10.9875     11.43625     8.29875\n",
      "  34.0175     15.80625    12.39875    20.7525005  42.7574995  11.07625\n",
      "   7.77       34.9300005  48.995001   11.5775     42.9724995  10.36375\n",
      "  16.1849995  25.0637505   6.8425     34.0799995 118.169998   12.64875\n",
      "  10.98125    14.54      118.1900025   6.7925     12.855       7.6225\n",
      "  28.7224995  33.540001   14.7725     53.85        7.86875    38.252501\n",
      "  12.5275      8.9575     12.59125   110.2999995   8.9975     13.73625\n",
      "  27.5250005  11.81625    12.77375    35.5975     27.6850005   6.85375\n",
      "   8.525       6.7925     44.209999   97.5699995  11.5525      6.4125\n",
      "  41.4899995   7.155     101.039997   12.03125    10.79125    32.8700005\n",
      "   7.81      109.985001   25.70625    33.0299985  38.5524995   8.2675\n",
      "  13.02       11.04875    16.74625    50.4250015  36.4825     92.0699995\n",
      "  62.7625005  35.1225015  10.51125     6.3525     17.4425005  22.4175005\n",
      "  14.32625    11.05375    41.035002    4.         41.7175005  44.647501\n",
      "  43.1450005  45.4400005  40.705      10.4575     72.0424995   5.875\n",
      "  11.10125    68.7874985  27.995001   32.3125     70.795002   40.535\n",
      "  10.85625    20.29        4.87625    12.7725      7.625      10.42875\n",
      "   6.26        6.97625     3.765625    7.2        16.8125     42.637501\n",
      "   5.609375   43.120001   61.8874985  15.475      43.3025      5.6975\n",
      " 112.744999   20.7362495   5.7734375  12.4125      3.5957     10.58875\n",
      "  41.317501   69.4724995   6.375       6.84        6.91       25.3525\n",
      "  11.28       45.6224995  35.3824995  10.77875     7.9175      5.71875\n",
      "   8.48875    38.799999   12.99       11.95375    37.995001   31.955\n",
      "   6.8        42.414999   31.037499   15.3225     33.255001   14.7125\n",
      "  53.535      10.27875    24.8075      5.6171875  10.91      120.2400015\n",
      "   7.155      35.385      12.42125    17.1774995  15.2125005   6.75625\n",
      "  43.045      10.9475     10.26875     4.3984375  11.01375     8.77125\n",
      "  26.7700005   6.26625    14.42625    33.4724995  98.2999995  43.772501\n",
      "   4.40625     8.33375     3.6875     32.4125005   6.31875    70.334999\n",
      "  33.289999   92.2400015  72.079998   95.6450005 104.294998   10.95125\n",
      "  45.157499    6.53875    16.5024995 114.3149985  65.232502   43.692501\n",
      "  13.97625    11.8325     69.84       12.39625    15.4275      8.51875\n",
      "  10.64125    22.0962505  24.245      31.9349995  99.9750025   4.4875\n",
      " 117.3050005  95.130001    6.07125    32.4174995   6.595      41.0425015\n",
      "  37.2224995  11.0025     11.62        6.53625     6.44625    44.039999\n",
      "  12.93875    14.0225      6.37375     8.38125     6.71       35.5050015\n",
      "  93.9650005  41.790001  105.769997   70.1525     14.8525     10.4275\n",
      "  60.504999  105.769997   36.455      89.719997    5.25       14.25875\n",
      "  44.9049985   4.5875      5.71875     6.46875     5.34       33.9799995\n",
      "  12.42375     7.63875    10.84375    12.96875     8.46375     7.74\n",
      "  15.65       34.022501    6.23375    93.2749975  14.3775      7.57875\n",
      "  12.12875     6.225      36.4825      6.35625    10.7025     32.4724995\n",
      "  11.6675     42.127501   36.3225005  10.46625   113.6100005   8.25875\n",
      " 112.3649975  65.4575005  33.050001   52.807499   28.7650005   6.455\n",
      "   5.88       32.277499   11.28        6.915       5.7         8.2225\n",
      "  44.635      61.1674995  31.5825     42.4750005  13.36625    15.4775\n",
      "   8.18875    51.5149995  78.1099965   5.2325      5.         44.0100005\n",
      "  40.450001   96.7299995   6.94       95.049999   32.942501   21.6075\n",
      " 118.169998  101.6899985   8.075      12.39625     9.04375    33.084999\n",
      " 105.330002   46.1499995  42.9349995   8.02375    15.9462495   5.15625\n",
      "  25.21375    23.5024995  48.960001   10.94625     6.28875     3.546875\n",
      " 117.68       41.9700015  34.4275      5.2109375  46.1975005   6.0475\n",
      "   5.8975     33.6049995  91.435001   11.00375     7.04375     8.975\n",
      "  42.9724995  96.885002   53.4000015  16.3975     43.0650005  11.12625\n",
      "  14.45125    11.51125    10.62875   114.7000005   5.92625     8.9425\n",
      "  28.045      16.2425005   6.435       6.45125    11.60875     8.05625\n",
      "   6.37875    35.7225      7.00125    10.53625    16.08125    11.1125\n",
      "  44.5650005   4.53125    65.532501    6.84375    12.8225      9.88125\n",
      "   6.06375    11.56125    65.0100025  33.3575005  50.8274995  28.867499\n",
      "  41.045      36.137501    8.335      11.6625      6.785      41.175001\n",
      "   6.8825     11.03625    14.70125    64.7700025  29.0824995  11.57125\n",
      " 115.6000025  12.39       43.7875005  43.5050015  45.6149995  12.48875\n",
      "   8.45125    95.505001   10.92875    10.9575     35.2875      8.655\n",
      "  11.7325     22.5825005  74.295002   41.375      66.2250025   5.70625\n",
      "  11.68125    35.862499    8.9425     69.9775005  38.567499   35.737499\n",
      "  93.704998   14.25875    88.279999   43.5050015  35.384998   67.9025\n",
      "  44.137501   45.6149995  95.220001  101.4749985  86.505001   49.302502\n",
      "  67.0699995  80.43       12.6225      6.34375    54.290001    4.9140625\n",
      "  35.862499   24.495      43.0124985   6.985       5.94625    40.0825005\n",
      "  31.6475     10.23625    50.9825     64.752502   11.56       48.3950005\n",
      "  25.70625     6.98        8.4025     15.97875    15.6475     31.7025\n",
      "   5.515625   73.875      43.5975      6.77       12.84       42.9225005\n",
      "  11.1675     12.22125    35.0975      8.41625     6.00125     6.075\n",
      "  51.9799995   6.76        5.078125   32.6700005  36.1724985  11.9875\n",
      "  12.43375    36.7250005  42.0650005  71.942501   40.674999    6.435\n",
      "  10.7575     34.429998    6.915       6.09375    72.049999   11.0425\n",
      "  27.1849995  10.5775     10.54875     7.50125     5.7        12.52875\n",
      "  51.5974995   7.33125    36.875       8.67375    36.014999   33.164999\n",
      "  42.540001   12.31375    22.0962505  92.2400015  10.8275     43.07\n",
      "  40.1049995 118.2799985  36.4899995  15.60625    40.285002   17.4875005\n",
      "  10.685      11.18375    10.765      37.1724985   6.53875    93.579998\n",
      "  36.8099995  92.0699995  22.9049995  51.2024995   4.0546875  42.795\n",
      "  22.1424995  32.25        6.35       93.3549995  33.540001   13.87125\n",
      "  36.835001  115.215      93.100002    6.225      89.870003   11.30875\n",
      "  36.8400005  13.67125     5.02875    14.1125      6.215       6.615\n",
      "  10.79125    16.6575005  10.365       6.7725     15.8987505  36.9850005\n",
      "  79.0299985   7.405      97.8899995  24.7325      5.1975      8.00625\n",
      "  40.277498    5.875       8.3775     64.187502    4.465      11.11375\n",
      "  12.42375   114.139999    6.         11.66875     7.46125    35.875\n",
      "  10.8275     34.8824995  12.855       5.21875    10.56625    64.6975025\n",
      "  35.3125     10.26875    16.5612495  79.          6.2075     34.5650005\n",
      "  10.9175     33.797499    6.395      40.307499   10.61625    10.935\n",
      "  15.8575      7.26875     6.9675     51.455      31.885      10.96625\n",
      "   8.3675      7.31375     7.69       11.5125     35.4449995  15.515\n",
      "  14.2075     66.454998   43.2624985  12.90125    46.022501   65.7250025\n",
      "   6.6975     37.7225     90.6049995  22.5200005 117.68       11.705\n",
      "   4.85625    49.2574995  11.3225     22.5387495  76.6925015   6.865\n",
      "   9.4475      7.92       12.24125    78.6449965  10.22       42.0650005\n",
      " 118.205002   44.0525     71.795002   20.29875    12.41875     6.97625\n",
      "   8.565       6.3475      7.71       66.09        7.02875    12.59\n",
      "  11.8425      6.785      41.7849995  43.8050005 104.294998  105.494999\n",
      "  36.835001   23.3699995  25.9949995   6.35625     8.1275     36.4574985\n",
      "  37.4950005   3.6953125   5.6796875   8.5425     10.445       4.0546875\n",
      "  16.68875    10.54875    86.029999  112.764999  113.175003   94.4399985\n",
      "  42.7299995  11.89375    16.6575005  14.8475      7.3875      6.23875\n",
      "  32.6925015  43.334999  116.669998   10.54       12.52125   117.9400025\n",
      "  28.740001   33.050001    6.0475     77.119999    6.91      114.220001\n",
      "   6.33875     8.66125    42.5975      4.453125    4.8725      5.9296875\n",
      "   4.92125    77.7999995  13.90625    60.2299995   6.84       76.2450025\n",
      "  79.9749985 112.1300015 120.32       42.137501  105.5900005  10.99875\n",
      "  36.1450005 117.199997   23.02125    12.695     107.0550005  44.385\n",
      "  10.99875    81.6674995  12.64625     3.6015625  36.7250005   8.34125\n",
      "   7.45875    73.9225005   5.5625      4.09375    12.46625     5.0390625\n",
      "  52.459999   71.9249995  43.6674995  14.36125    10.47375    11.39375\n",
      "  14.85125    11.5675      6.70625    26.9525005  31.8850005  25.0925005\n",
      "  42.715       6.89375    65.2125015 116.3350025  71.119999   34.539999\n",
      "   6.495      77.9850005   8.9975     10.4475     19.3362505   6.53625\n",
      "  10.82125     6.4825     11.705      14.64625     6.595      10.85\n",
      " 101.324997    5.255      49.7350005  48.9349995  65.737503   51.4674985\n",
      "   6.09875    14.95875     9.00125    39.235001   25.6575005   6.615\n",
      "   9.00125    16.96875    70.1525     10.6775     33.5175      6.75625\n",
      "  12.56125     5.          6.2825   ]\n"
     ]
    }
   ],
   "source": [
    "print (y_pred_knn)"
   ]
  },
  {
   "cell_type": "code",
   "execution_count": 49,
   "metadata": {},
   "outputs": [
    {
     "data": {
      "image/png": "[encoded data removed]",
      "text/plain": [
       "<Figure size 432x288 with 1 Axes>"
      ]
     },
     "metadata": {
      "needs_background": "light"
     },
     "output_type": "display_data"
    }
   ],
   "source": [
    "plt.scatter(y_test, y_pred_reg)\n",
    "plt.xlabel('Actual Prices')\n",
    "plt.ylabel('Predicted Prices')\n",
    "\n",
    "plt.title('Predicted vs Actual Price')\n",
    "plt.show()"
   ]
  },
  {
   "cell_type": "code",
   "execution_count": 50,
   "metadata": {},
   "outputs": [
    {
     "data": {
      "image/png": "[encoded data removed]",
      "text/plain": [
       "<Figure size 432x288 with 1 Axes>"
      ]
     },
     "metadata": {
      "needs_background": "light"
     },
     "output_type": "display_data"
    }
   ],
   "source": [
    "plt.scatter(y_test, y_pred_poly2)\n",
    "plt.xlabel('Actual Prices')\n",
    "plt.ylabel('Predicted Prices')\n",
    "\n",
    "plt.title('Predicted vs Actual Price')\n",
    "plt.show()"
   ]
  },
  {
   "cell_type": "code",
   "execution_count": 51,
   "metadata": {},
   "outputs": [
    {
     "data": {
      "image/png": "[encoded data removed]",
      "text/plain": [
       "<Figure size 432x288 with 1 Axes>"
      ]
     },
     "metadata": {
      "needs_background": "light"
     },
     "output_type": "display_data"
    }
   ],
   "source": [
    "plt.scatter(y_test, y_pred_knn)\n",
    "plt.xlabel('Actual Prices')\n",
    "plt.ylabel('Predicted Prices')\n",
    "\n",
    "plt.title('Predicted vs Actual Price')\n",
    "plt.show()"
   ]
  },
  {
   "cell_type": "code",
   "execution_count": null,
   "metadata": {},
   "outputs": [],
   "source": []
  }
 ],
 "metadata": {
  "kernelspec": {
   "display_name": "Python 3",
   "language": "python",
   "name": "python3"
  },
  "language_info": {
   "codemirror_mode": {
    "name": "ipython",
    "version": 3
   },
   "file_extension": ".py",
   "mimetype": "text/x-python",
   "name": "python",
   "nbconvert_exporter": "python",
   "pygments_lexer": "ipython3",
   "version": "3.7.6"
  }
 },
 "nbformat": 4,
 "nbformat_minor": 4
}
